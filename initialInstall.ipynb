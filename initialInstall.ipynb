{
 "cells": [
  {
   "cell_type": "markdown",
   "metadata": {},
   "source": [
    "# Overview \n",
    "\n",
    "The goal of this workbook is to initialize the FSharp.Formatting document creation utility in one's own repo. The intent is to use FSharp.Formatting to make a blog. "
   ]
  },
  {
   "cell_type": "markdown",
   "metadata": {},
   "source": [
    "This workbook should be placed in the repo root. FSharp.Formatting may be initialized using the dotnet tool utility. "
   ]
  },
  {
   "cell_type": "markdown",
   "metadata": {},
   "source": [
    "The standard setup is to have `RepoRoot/docs` where all your documentation .md and .fsx, etc files go. `fsdocs` will search through this directory and create the `*.html` files in the `RepoRoot/output` directory. There are customizations that can be set using the docs in the FSharp.Formatting repo. If a `docs` directoy is needed, run:"
   ]
  },
  {
   "cell_type": "code",
   "execution_count": 1,
   "metadata": {
    "dotnet_interactive": {
     "language": "pwsh"
    },
    "polyglot_notebook": {
     "kernelName": "pwsh"
    }
   },
   "outputs": [],
   "source": [
    "mkdir docs"
   ]
  },
  {
   "cell_type": "markdown",
   "metadata": {},
   "source": [
    "::note By making the block a PowerShell, it can be executed right in the notebook."
   ]
  },
  {
   "cell_type": "markdown",
   "metadata": {},
   "source": [
    "`dotnet tool` will error without a \"`Dotnet local tool manifest file`\".\n",
    "Create one:"
   ]
  },
  {
   "cell_type": "code",
   "execution_count": 7,
   "metadata": {
    "dotnet_interactive": {
     "language": "pwsh"
    },
    "polyglot_notebook": {
     "kernelName": "pwsh"
    }
   },
   "outputs": [
    {
     "name": "stdout",
     "output_type": "stream",
     "text": [
      "The template \"Dotnet local tool manifest file\" was created successfully.\n",
      "\n"
     ]
    }
   ],
   "source": [
    "dotnet new tool-manifest"
   ]
  },
  {
   "cell_type": "markdown",
   "metadata": {},
   "source": [
    "The basic command to install Fsharp.Formatting is:"
   ]
  },
  {
   "cell_type": "code",
   "execution_count": 8,
   "metadata": {
    "dotnet_interactive": {
     "language": "pwsh"
    },
    "polyglot_notebook": {
     "kernelName": "pwsh"
    }
   },
   "outputs": [
    {
     "name": "stdout",
     "output_type": "stream",
     "text": [
      "You can invoke the tool from this directory using the following commands: 'dotnet tool run fsdocs' or 'dotnet fsdocs'.\n",
      "Tool 'fsdocs-tool' (version '20.0.0') was successfully installed. Entry is added to the manifest file /home/linux/CODE/Fxplorer_www/.config/dotnet-tools.json.\n"
     ]
    }
   ],
   "source": [
    "dotnet tool install --local fsdocs-tool"
   ]
  },
  {
   "cell_type": "markdown",
   "metadata": {},
   "source": [
    "fsdocs `watch` will launch a browser and allow you to browse your created docs. When it launches, it will try to hit index.html and will then 404. One needs to have a index.md or index.fsx file in the `docs` directy so fsdocs will create the index.html. "
   ]
  },
  {
   "cell_type": "markdown",
   "metadata": {},
   "source": [
    "Running the `build` command will search through and generate all the html into an `RepoRoot/` `output` directory. "
   ]
  },
  {
   "cell_type": "markdown",
   "metadata": {},
   "source": [
    "```\n",
    "dotnet fsdocs build\n",
    "```"
   ]
  },
  {
   "cell_type": "markdown",
   "metadata": {},
   "source": [
    "Based on trial and error. The logo is set to `/img/logo.png` by default. That logo is missing in the inital run. The \"input\" directory is the `docs` by default. So fsdocs will convert to html the files in the directory and parady the structure. It will simply copy over anything it finds that is not a file to process (like .fsx,.md,.ipynb, etc.) "
   ]
  },
  {
   "cell_type": "markdown",
   "metadata": {},
   "source": [
    "####Solution File\n",
    "The recomendadtion is a solution file in the root folder. Then any projects in the /src directory."
   ]
  },
  {
   "cell_type": "markdown",
   "metadata": {},
   "source": [
    "::side note\n",
    "the `/src` has history on why that is used, so it is basically "
   ]
  },
  {
   "cell_type": "code",
   "execution_count": null,
   "metadata": {
    "dotnet_interactive": {
     "language": "pwsh"
    },
    "polyglot_notebook": {
     "kernelName": "pwsh"
    }
   },
   "outputs": [],
   "source": [
    "dotnet new sln --name Fxplorer_www"
   ]
  }
 ],
 "metadata": {
  "kernelspec": {
   "display_name": ".NET (F#)",
   "language": "F#",
   "name": ".net-fsharp"
  },
  "language_info": {
   "name": "polyglot-notebook"
  },
  "polyglot_notebook": {
   "kernelInfo": {
    "defaultKernelName": "fsharp",
    "items": [
     {
      "aliases": [],
      "languageName": "fsharp",
      "name": "fsharp"
     }
    ]
   }
  }
 },
 "nbformat": 4,
 "nbformat_minor": 2
}
