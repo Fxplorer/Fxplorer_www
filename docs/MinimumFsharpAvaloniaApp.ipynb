{
 "cells": [
  {
   "cell_type": "code",
   "execution_count": null,
   "metadata": {
    "dotnet_interactive": {
     "language": "fsharp"
    },
    "polyglot_notebook": {
     "kernelName": "fsharp"
    }
   },
   "outputs": [],
   "source": [
    "#if INTERACTIVE\n",
    "\n",
    "#r \"nuget: Avalonia\"\n",
    "#r \"nuget: Avalonia.Desktop\"\n",
    "#r \"nuget: Avalonia.Themes.Simple\"\n",
    "\n",
    "#endif\n"
   ]
  },
  {
   "cell_type": "code",
   "execution_count": null,
   "metadata": {
    "dotnet_interactive": {
     "language": "fsharp"
    },
    "polyglot_notebook": {
     "kernelName": "fsharp"
    }
   },
   "outputs": [],
   "source": [
    "open Avalonia\n",
    "open Avalonia.Controls\n"
   ]
  },
  {
   "cell_type": "code",
   "execution_count": null,
   "metadata": {
    "dotnet_interactive": {
     "language": "fsharp"
    },
    "polyglot_notebook": {
     "kernelName": "fsharp"
    }
   },
   "outputs": [],
   "source": [
    "let view1 () =\n",
    "    let window = Window(Title = \"Hello World App\")\n",
    "    let textBlock = \"Hello World from Avalonia F#!\"\n",
    "    window.Content <- textBlock\n",
    "    window\n"
   ]
  },
  {
   "cell_type": "code",
   "execution_count": null,
   "metadata": {
    "dotnet_interactive": {
     "language": "fsharp"
    },
    "polyglot_notebook": {
     "kernelName": "fsharp"
    }
   },
   "outputs": [],
   "source": [
    "type App() = \n",
    "    inherit Application()\n",
    "\n",
    "    override this.Initialize() =\n",
    "        this.Styles.Add ( Avalonia.Themes.Simple.SimpleTheme() )\n",
    "\n",
    "    override this.OnFrameworkInitializationCompleted() =\n",
    "\n",
    "        match this.ApplicationLifetime with\n",
    "        | :? Avalonia.Controls.ApplicationLifetimes.IClassicDesktopStyleApplicationLifetime as desktop ->\n",
    "            desktop.MainWindow <- view1 ()\n",
    "            printfn \"Avalonia app running...\"\n",
    "        | _ -> ()\n"
   ]
  },
  {
   "cell_type": "code",
   "execution_count": null,
   "metadata": {
    "dotnet_interactive": {
     "language": "fsharp"
    },
    "polyglot_notebook": {
     "kernelName": "fsharp"
    }
   },
   "outputs": [],
   "source": [
    "let app = \n",
    "    AppBuilder.Configure<App>()\n",
    "        .UsePlatformDetect()\n",
    "        .StartWithClassicDesktopLifetime([||])\n"
   ]
  }
 ],
 "metadata": {
  "kernelspec": {
   "display_name": ".NET (F#)",
   "language": "F#",
   "name": ".net-fsharp"
  },
  "language_info": {
   "name": "polyglot-notebook"
  },
  "polyglot_notebook": {
   "kernelInfo": {
    "defaultKernelName": "fsharp",
    "items": [
     {
      "aliases": [],
      "languageName": "fsharp",
      "name": "fsharp"
     }
    ]
   }
  }
 },
 "nbformat": 4,
 "nbformat_minor": 2
}
